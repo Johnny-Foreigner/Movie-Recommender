{
 "cells": [
  {
   "cell_type": "markdown",
   "metadata": {},
   "source": [
    "# Recommendation System\n",
    "\n",
    "You will be making movie recommendations based on the <a href=\"https://grouplens.org/datasets/movielens/latest/\">MovieLens dataset</a> from the GroupLens research lab at the University of Minnesota. Unless you are planning to run your analysis on a paid cloud platform, we recommend that you use the \"small\" dataset containing 100,000 user ratings (and potentially, only a particular subset of that dataset).\n",
    "\n",
    "Your task is to:\n",
    "\n",
    "    Build a model that provides top 5 movie recommendations to a user, based on their ratings of other movies.\n",
    "\n",
    "The MovieLens dataset is a \"classic\" recommendation system dataset, that is used in numerous academic papers and machine learning proofs-of-concept. You will need to create the specific details about how the user will provide their ratings of other movies, in addition to formulating a more specific business problem within the general context of \"recommending movies\".\n",
    "\n",
    "#### Collaborative Filtering\n",
    "At minimum, your recommendation system must use collaborative filtering. If you have time, consider implementing a hybrid approach, e.g. using collaborative filtering as the primary mechanism, but using content-based filtering to address the <a href=\"https://en.wikipedia.org/wiki/Cold_start_(recommender_systems)\">cold start</a> problem.\n",
    "\n",
    "#### Evaluation\n",
    "The MovieLens dataset has explicit ratings, so achieving some sort of evaluation of your model is simple enough. But you should give some thought to the question of metrics. Since the rankings are ordinal, we know we can treat this like a regression problem. But when it comes to regression metrics there are several choices: RMSE, MAE, etc. Here are some further ideas."
   ]
  },
  {
   "cell_type": "markdown",
   "metadata": {},
   "source": [
    "## Import Packages"
   ]
  },
  {
   "cell_type": "code",
   "execution_count": 1,
   "metadata": {},
   "outputs": [],
   "source": [
    "import zipfile\n",
    "import pandas as pd\n",
    "import numpy as np\n",
    "\n",
    "from sklearn.preprocessing import LabelEncoder\n",
    "\n",
    "import pyspark\n",
    "from pyspark.sql import SparkSession\n",
    "\n",
    "# import pyspark.sql.functions\n",
    "from pyspark.sql.functions import col, min, max, avg\n",
    "\n",
    "from pyspark.ml.recommendation import ALS\n",
    "\n",
    "# Import RegressionEvaluator\n",
    "from pyspark.ml.evaluation import RegressionEvaluator\n",
    "\n",
    "# Import ParamGridBuilder, CrossValidator\n",
    "from pyspark.ml.tuning import ParamGridBuilder, CrossValidator\n",
    "\n",
    "# Start a spark session\n",
    "spark = SparkSession.builder.getOrCreate()"
   ]
  },
  {
   "cell_type": "markdown",
   "metadata": {},
   "source": [
    "## Import Data"
   ]
  },
  {
   "cell_type": "code",
   "execution_count": 2,
   "metadata": {
    "scrolled": true
   },
   "outputs": [],
   "source": [
    "# Download the data\n",
    "\n",
    "# ! wget -P ../../data http://files.grouplens.org/datasets/movielens/ml-latest-small.zip"
   ]
  },
  {
   "cell_type": "code",
   "execution_count": 3,
   "metadata": {},
   "outputs": [],
   "source": [
    "# Unzip the data\n",
    "\n",
    "# with zipfile.ZipFile('../../data/ml-latest-small.zip', 'r') as zip_ref:\n",
    "#     zip_ref.extractall('../../data')"
   ]
  },
  {
   "cell_type": "markdown",
   "metadata": {},
   "source": [
    "## Data exploration & manipulation"
   ]
  },
  {
   "cell_type": "code",
   "execution_count": 56,
   "metadata": {},
   "outputs": [
    {
     "name": "stdout",
     "output_type": "stream",
     "text": [
      "+------+-------+------+---------+--------------------+--------------------+----+---------+\n",
      "|userId|movieId|rating|timestamp|               title|              genres| tag|timestamp|\n",
      "+------+-------+------+---------+--------------------+--------------------+----+---------+\n",
      "|     1|      1|   4.0|964982703|    Toy Story (1995)|Adventure|Animati...|null|     null|\n",
      "|     1|      3|   4.0|964981247|Grumpier Old Men ...|      Comedy|Romance|null|     null|\n",
      "|     1|      6|   4.0|964982224|         Heat (1995)|Action|Crime|Thri...|null|     null|\n",
      "|     1|     47|   5.0|964983815|Seven (a.k.a. Se7...|    Mystery|Thriller|null|     null|\n",
      "|     1|     50|   5.0|964982931|Usual Suspects, T...|Crime|Mystery|Thr...|null|     null|\n",
      "|     1|     70|   3.0|964982400|From Dusk Till Da...|Action|Comedy|Hor...|null|     null|\n",
      "|     1|    101|   5.0|964980868|Bottle Rocket (1996)|Adventure|Comedy|...|null|     null|\n",
      "|     1|    110|   4.0|964982176|   Braveheart (1995)|    Action|Drama|War|null|     null|\n",
      "|     1|    151|   5.0|964984041|      Rob Roy (1995)|Action|Drama|Roma...|null|     null|\n",
      "|     1|    157|   5.0|964984100|Canadian Bacon (1...|          Comedy|War|null|     null|\n",
      "|     1|    163|   5.0|964983650|    Desperado (1995)|Action|Romance|We...|null|     null|\n",
      "|     1|    216|   5.0|964981208|Billy Madison (1995)|              Comedy|null|     null|\n",
      "|     1|    223|   3.0|964980985|       Clerks (1994)|              Comedy|null|     null|\n",
      "|     1|    231|   5.0|964981179|Dumb & Dumber (Du...|    Adventure|Comedy|null|     null|\n",
      "|     1|    235|   4.0|964980908|      Ed Wood (1994)|        Comedy|Drama|null|     null|\n",
      "|     1|    260|   5.0|964981680|Star Wars: Episod...|Action|Adventure|...|null|     null|\n",
      "|     1|    296|   3.0|964982967| Pulp Fiction (1994)|Comedy|Crime|Dram...|null|     null|\n",
      "|     1|    316|   3.0|964982310|     Stargate (1994)|Action|Adventure|...|null|     null|\n",
      "|     1|    333|   5.0|964981179|    Tommy Boy (1995)|              Comedy|null|     null|\n",
      "|     1|    349|   4.0|964982563|Clear and Present...|Action|Crime|Dram...|null|     null|\n",
      "+------+-------+------+---------+--------------------+--------------------+----+---------+\n",
      "only showing top 20 rows\n",
      "\n"
     ]
    }
   ],
   "source": [
    "# Read in the data with spark DataFrames\n",
    "links = spark.read.csv('../../data/ml-latest-small/links.csv', inferSchema=True, header=True)\n",
    "movies = spark.read.csv(\"../../data/ml-latest-small/movies.csv\", inferSchema=True, header=True)\n",
    "ratings = spark.read.csv(\"../../data/ml-latest-small/ratings.csv\", inferSchema=True, header=True)\n",
    "tags = spark.read.csv(\"../../data/ml-latest-small/tags.csv\", inferSchema=True, header=True)\n",
    "# tags = tags.select('userId', 'movieId', 'tag')\n",
    "\n",
    "# Join tabels\n",
    "df = ratings.join(movies, [\"movieID\"], \"left\")\n",
    "df = df.join(tags, [\"userID\", \"movieID\"], \"left\")\n",
    "\n",
    "df.show()\n",
    "\n",
    "# df = ratings.join(tags, [\"userId\", \"movieId\"], \"left\")\n",
    "# df = df.join(movies, [\"movieId\"], \"left\")\n",
    "\n",
    "# #Convert to Pandas Dataframe and filter columns\n",
    "# pandas_df=df.toPandas()\n",
    "# pandas_df = pandas_df[['userId', 'rating', 'movieId', 'title', 'genres', 'tag', 'timestamp']]\n",
    "\n",
    "# # Fill null tags with \"Unkown\"\n",
    "# pandas_df.tag = pandas_df.tag.fillna(\"Uknown\")\n",
    "\n",
    "# # LabelEncode tags and genres\n",
    "# le = LabelEncoder()\n",
    "# le_genres = LabelEncoder()\n",
    "# tags_le = le.fit_transform(pandas_df.tag)\n",
    "# genres_le = le_genres.fit_transform(pandas_df.genres)\n",
    "\n",
    "# pandas_df = pandas_df.drop(['genres', 'tag'], axis=1)\n",
    "# pandas_df['tags_le'] = pd.Series(tags_le, index=pandas_df.index).astype(str)\n",
    "# pandas_df['genres_le'] = pd.Series(genres_le, index=pandas_df.index).astype(str)\n",
    "\n",
    "# # Convert back Spark Dataframe\n",
    "# df = spark.createDataFrame(pandas_df)\n",
    "\n",
    "# # Change dtypes from strings to numeric\n",
    "# df = df.select(df.userId.cast(\"integer\"),\n",
    "#                df.movieId.cast(\"integer\"),\n",
    "#                df.rating.cast(\"double\"),\n",
    "#                df.genres_le.cast(\"integer\"),\n",
    "#                df.tags_le.cast(\"integer\"),\n",
    "#                df.timestamp.cast(\"integer\"),\n",
    "#                df.title)"
   ]
  },
  {
   "cell_type": "code",
   "execution_count": 41,
   "metadata": {},
   "outputs": [
    {
     "name": "stdout",
     "output_type": "stream",
     "text": [
      "root\n",
      " |-- userId: integer (nullable = true)\n",
      " |-- movieId: integer (nullable = true)\n",
      " |-- rating: double (nullable = true)\n",
      " |-- timestamp: integer (nullable = true)\n",
      " |-- title: string (nullable = true)\n",
      " |-- genres: string (nullable = true)\n",
      " |-- tag: string (nullable = true)\n",
      " |-- timestamp: integer (nullable = true)\n",
      "\n"
     ]
    }
   ],
   "source": [
    "df.printSchema()"
   ]
  },
  {
   "cell_type": "code",
   "execution_count": 42,
   "metadata": {},
   "outputs": [
    {
     "name": "stdout",
     "output_type": "stream",
     "text": [
      "+------+-------+------+---------+--------------------+--------------------+----+---------+\n",
      "|userId|movieId|rating|timestamp|               title|              genres| tag|timestamp|\n",
      "+------+-------+------+---------+--------------------+--------------------+----+---------+\n",
      "|     1|      1|   4.0|964982703|    Toy Story (1995)|Adventure|Animati...|null|     null|\n",
      "|     1|      3|   4.0|964981247|Grumpier Old Men ...|      Comedy|Romance|null|     null|\n",
      "|     1|      6|   4.0|964982224|         Heat (1995)|Action|Crime|Thri...|null|     null|\n",
      "|     1|     47|   5.0|964983815|Seven (a.k.a. Se7...|    Mystery|Thriller|null|     null|\n",
      "|     1|     50|   5.0|964982931|Usual Suspects, T...|Crime|Mystery|Thr...|null|     null|\n",
      "|     1|     70|   3.0|964982400|From Dusk Till Da...|Action|Comedy|Hor...|null|     null|\n",
      "|     1|    101|   5.0|964980868|Bottle Rocket (1996)|Adventure|Comedy|...|null|     null|\n",
      "|     1|    110|   4.0|964982176|   Braveheart (1995)|    Action|Drama|War|null|     null|\n",
      "|     1|    151|   5.0|964984041|      Rob Roy (1995)|Action|Drama|Roma...|null|     null|\n",
      "|     1|    157|   5.0|964984100|Canadian Bacon (1...|          Comedy|War|null|     null|\n",
      "+------+-------+------+---------+--------------------+--------------------+----+---------+\n",
      "only showing top 10 rows\n",
      "\n"
     ]
    }
   ],
   "source": [
    "df.show(10)"
   ]
  },
  {
   "cell_type": "markdown",
   "metadata": {},
   "source": [
    "#### Calculating Sparsity"
   ]
  },
  {
   "cell_type": "code",
   "execution_count": 43,
   "metadata": {},
   "outputs": [
    {
     "name": "stdout",
     "output_type": "stream",
     "text": [
      "The ratings dataframe is  98.27% empty.\n"
     ]
    }
   ],
   "source": [
    "# Count the total number of ratings in the dataset\n",
    "numerator = df.select(\"rating\").count()\n",
    "\n",
    "# Count the number of distinct userIds and distinct movieIds\n",
    "num_users = df.select(\"userId\").distinct().count()\n",
    "num_movies = df.select(\"movieId\").distinct().count()\n",
    "\n",
    "# Set the denominator equal to the number of users multiplied by the number of movies\n",
    "denominator = num_users * num_movies\n",
    "\n",
    "# Divide the numerator by the denominator\n",
    "sparsity = (1.0 - (numerator *1.0)/denominator)*100\n",
    "print(\"The ratings dataframe is \", \"%.2f\" % sparsity + \"% empty.\")"
   ]
  },
  {
   "cell_type": "markdown",
   "metadata": {},
   "source": [
    "#### Ratings Summary Statistics"
   ]
  },
  {
   "cell_type": "code",
   "execution_count": 44,
   "metadata": {},
   "outputs": [
    {
     "name": "stdout",
     "output_type": "stream",
     "text": [
      "Movie with the fewest ratings: \n",
      "+----------+\n",
      "|min(count)|\n",
      "+----------+\n",
      "|         1|\n",
      "+----------+\n",
      "\n",
      "Avg num ratings per movie: \n",
      "+------------------+\n",
      "|        avg(count)|\n",
      "+------------------+\n",
      "|10.559132044426162|\n",
      "+------------------+\n",
      "\n",
      "User with the fewest ratings: \n",
      "+----------+\n",
      "|min(count)|\n",
      "+----------+\n",
      "|        20|\n",
      "+----------+\n",
      "\n",
      "Avg num ratings per user: \n",
      "+------------------+\n",
      "|        avg(count)|\n",
      "+------------------+\n",
      "|168.32295081967214|\n",
      "+------------------+\n",
      "\n",
      "Num of users: 610\n",
      "Num of movies: 9724\n",
      "Num of tags: 1544\n",
      "Num of rows in ratings: 100836\n",
      "Num of rows in tags: 3683\n",
      "Num of rows in combined dataframe: 102677\n"
     ]
    }
   ],
   "source": [
    "# Min num ratings for movies\n",
    "print(\"Movie with the fewest ratings: \")\n",
    "df.groupBy(\"movieID\").count().select(min(\"count\")).show()\n",
    "\n",
    "# Avg num ratings per movie\n",
    "print(\"Avg num ratings per movie: \")\n",
    "df.groupBy(\"movieID\").count().select(avg(\"count\")).show()\n",
    "\n",
    "# Min num ratings for user\n",
    "print(\"User with the fewest ratings: \")\n",
    "df.groupBy(\"userID\").count().select(min(\"count\")).show()\n",
    "\n",
    "# Avg num ratings per users\n",
    "print(\"Avg num ratings per user: \")\n",
    "df.groupBy(\"userID\").count().select(avg(\"count\")).show()\n",
    "\n",
    "print(\"Num of users: \" + str(df.groupBy(\"userID\").count().count()))\n",
    "print(\"Num of movies: \" + str(df.groupBy(\"movieID\").count().count()))\n",
    "print(\"Num of tags: \" + str(df.groupBy(\"tag\").count().count()))\n",
    "\n",
    "print(\"Num of rows in ratings: \" + str(ratings.count()))\n",
    "\n",
    "print(\"Num of rows in tags: \" + str(tags.count()))\n",
    "\n",
    "print(\"Num of rows in combined dataframe: \" + str(df.count()))"
   ]
  },
  {
   "cell_type": "markdown",
   "metadata": {},
   "source": [
    "# Modeling"
   ]
  },
  {
   "cell_type": "markdown",
   "metadata": {},
   "source": [
    "#### FSM"
   ]
  },
  {
   "cell_type": "code",
   "execution_count": 45,
   "metadata": {},
   "outputs": [
    {
     "name": "stdout",
     "output_type": "stream",
     "text": [
      "+------+-------+------+----------+--------------------+------+---------+----------+----------+\n",
      "|userId|movieId|rating| timestamp|               title|genres|      tag| timestamp|prediction|\n",
      "+------+-------+------+----------+--------------------+------+---------+----------+----------+\n",
      "|   133|    471|   4.0| 843491793|Hudsucker Proxy, ...|Comedy|     null|      null| 2.5719693|\n",
      "|   474|    471|   3.0| 974668858|Hudsucker Proxy, ...|Comedy|hula hoop|1137375547| 3.2929633|\n",
      "|   462|    471|   2.5|1123890831|Hudsucker Proxy, ...|Comedy|     null|      null| 2.8910556|\n",
      "|   176|    471|   5.0| 840109075|Hudsucker Proxy, ...|Comedy|     null|      null| 3.3042927|\n",
      "|   448|    471|   4.0|1178980875|Hudsucker Proxy, ...|Comedy|     null|      null| 3.3557544|\n",
      "|    32|    471|   3.0| 856737165|Hudsucker Proxy, ...|Comedy|     null|      null| 3.7903266|\n",
      "|   608|    471|   1.5|1117161794|Hudsucker Proxy, ...|Comedy|     null|      null|  2.447992|\n",
      "|   609|    833|   3.0| 847221080|High School High ...|Comedy|     null|      null| 1.4512004|\n",
      "|   307|    833|   1.0|1186172725|High School High ...|Comedy|     null|      null| 1.3072631|\n",
      "|   492|    833|   4.0| 863976674|High School High ...|Comedy|     null|      null| 1.6332612|\n",
      "+------+-------+------+----------+--------------------+------+---------+----------+----------+\n",
      "only showing top 10 rows\n",
      "\n"
     ]
    }
   ],
   "source": [
    "# Split the ratings dataframe into training and test data\n",
    "(training_data, test_data) = df.randomSplit([.8, .2])\n",
    "\n",
    "# Set the ALS hyperparameters\n",
    "als_fsm = ALS(userCol=\"userId\", itemCol=\"movieId\", ratingCol=\"rating\",\n",
    "          coldStartStrategy=\"drop\", nonnegative =True, implicitPrefs = False)\n",
    "\n",
    "# Fit the model to the training_data\n",
    "fsm = als_fsm.fit(training_data)\n",
    "\n",
    "# Generate predictions on the test_data\n",
    "test_predictions = fsm.transform(test_data)\n",
    "test_predictions.show(10)"
   ]
  },
  {
   "cell_type": "markdown",
   "metadata": {},
   "source": [
    "#### Build RMSE evaluator"
   ]
  },
  {
   "cell_type": "code",
   "execution_count": 46,
   "metadata": {},
   "outputs": [],
   "source": [
    "# Complete the evaluator code\n",
    "evaluator = RegressionEvaluator(metricName=\"rmse\", labelCol=\"rating\", predictionCol=\"prediction\")"
   ]
  },
  {
   "cell_type": "code",
   "execution_count": 47,
   "metadata": {},
   "outputs": [
    {
     "name": "stdout",
     "output_type": "stream",
     "text": [
      "0.8751853412231582\n"
     ]
    }
   ],
   "source": [
    "# Evaluate the \"test_predictions\" dataframe\n",
    "RMSE = evaluator.evaluate(test_predictions)\n",
    "\n",
    "# Print the RMSE\n",
    "print (RMSE)"
   ]
  },
  {
   "cell_type": "markdown",
   "metadata": {},
   "source": [
    "#### Tuning Hyperparameters"
   ]
  },
  {
   "cell_type": "code",
   "execution_count": 48,
   "metadata": {},
   "outputs": [],
   "source": [
    "# # Create ALS model\n",
    "# als = ALS(userCol=\"userId\", itemCol=\"movieId\", ratingCol=\"rating\",\n",
    "#           coldStartStrategy=\"drop\", nonnegative = True, implicitPrefs = False)"
   ]
  },
  {
   "cell_type": "code",
   "execution_count": 49,
   "metadata": {},
   "outputs": [],
   "source": [
    "# Add hyperparameters and their respective values to param_grid\n",
    "# param_grid = ParamGridBuilder() \\\n",
    "#             .addGrid(als.alpha, [0, .25, .5, .75, 1]) \\\n",
    "#             .addGrid(als.rank, [10, 25, 50, 75, 100]) \\\n",
    "#             .addGrid(als.regParam, [.05, .1, .15, .2]) \\\n",
    "#             .addGrid(als.maxIter, [5, 25, 50, 75, 100]) \\\n",
    "#             .build()\n",
    "\n",
    "\n",
    "# print length of evaluator\n",
    "# print (\"Num models to be tested: \", len(param_grid))"
   ]
  },
  {
   "cell_type": "code",
   "execution_count": 50,
   "metadata": {},
   "outputs": [],
   "source": [
    "# Build cross validation using CrossValidator\n",
    "# cv = CrossValidator(estimator=als, estimatorParamMaps=param_grid, evaluator=evaluator, numFolds=5)"
   ]
  },
  {
   "cell_type": "code",
   "execution_count": 51,
   "metadata": {},
   "outputs": [],
   "source": [
    "# Fit cross validator to the 'train' dataset\n",
    "# model = cv.fit(train)"
   ]
  },
  {
   "cell_type": "code",
   "execution_count": 52,
   "metadata": {},
   "outputs": [],
   "source": [
    "# Extract best model from the cv model above\n",
    "# best_model = model.bestModel"
   ]
  },
  {
   "cell_type": "code",
   "execution_count": 27,
   "metadata": {},
   "outputs": [],
   "source": [
    "# Complete the code below to extract the ALS model parameters\n",
    "# print(\"**Best Model**\")\n",
    "\n",
    "# rank: 50\n",
    "# regParam=0.15\n",
    "# alpha=0\n",
    "\n",
    "# Print \"ParamMap\"\n",
    "# print(\"\\n\\n  ParamMap:\", best_model._java_obj.parent().extractParamMap())"
   ]
  },
  {
   "cell_type": "code",
   "execution_count": 58,
   "metadata": {},
   "outputs": [
    {
     "name": "stdout",
     "output_type": "stream",
     "text": [
      "+------+-------+------+----------+--------------------+--------------------+----+---------+----------+\n",
      "|userId|movieId|rating| timestamp|               title|              genres| tag|timestamp|prediction|\n",
      "+------+-------+------+----------+--------------------+--------------------+----+---------+----------+\n",
      "|   599|    471|   2.5|1498518822|Hudsucker Proxy, ...|              Comedy|null|     null| 2.7002628|\n",
      "|   520|    471|   5.0|1326609921|Hudsucker Proxy, ...|              Comedy|null|     null| 3.5689154|\n",
      "|   171|    471|   3.0| 866905683|Hudsucker Proxy, ...|              Comedy|null|     null| 4.2534246|\n",
      "|   273|    471|   5.0| 835861348|Hudsucker Proxy, ...|              Comedy|null|     null| 3.8096783|\n",
      "|   287|    471|   4.5|1110231536|Hudsucker Proxy, ...|              Comedy|null|     null| 2.8891737|\n",
      "|   541|    471|   3.0| 835643551|Hudsucker Proxy, ...|              Comedy|null|     null| 3.5029209|\n",
      "|   357|    471|   3.5|1348627082|Hudsucker Proxy, ...|              Comedy|null|     null| 3.8148637|\n",
      "|   177|   1088|   3.5|1435534616|Dirty Dancing (1987)|Drama|Musical|Rom...|null|     null| 3.5546782|\n",
      "|   132|   1088|   4.0|1329984080|Dirty Dancing (1987)|Drama|Musical|Rom...|null|     null|  2.790985|\n",
      "|   479|   1088|   4.0|1039362157|Dirty Dancing (1987)|Drama|Musical|Rom...|null|     null| 2.8603358|\n",
      "+------+-------+------+----------+--------------------+--------------------+----+---------+----------+\n",
      "only showing top 10 rows\n",
      "\n"
     ]
    }
   ],
   "source": [
    "# New model with best params\n",
    "als = ALS(userCol=\"userId\", itemCol=\"movieId\", ratingCol=\"rating\",\n",
    "          alpha=0, rank=50, regParam=0.15, maxIter=10,\n",
    "          coldStartStrategy=\"drop\", nonnegative = True, implicitPrefs = False)\n",
    "# Fit model to train\n",
    "model = als.fit(training_data)\n",
    "\n",
    "# Use mode to predict on test\n",
    "test_predictions = model.transform(test_data)\n",
    "test_predictions.show(10)"
   ]
  },
  {
   "cell_type": "code",
   "execution_count": 59,
   "metadata": {},
   "outputs": [
    {
     "name": "stdout",
     "output_type": "stream",
     "text": [
      "0.8558909829884935\n"
     ]
    }
   ],
   "source": [
    "# Evaluate the \"test_predictions\" dataframe\n",
    "RMSE = evaluator.evaluate(test_predictions)\n",
    "\n",
    "# Print the RMSE\n",
    "print (RMSE)"
   ]
  },
  {
   "cell_type": "markdown",
   "metadata": {},
   "source": [
    "## Final recommendations"
   ]
  },
  {
   "cell_type": "code",
   "execution_count": 214,
   "metadata": {},
   "outputs": [
    {
     "name": "stdout",
     "output_type": "stream",
     "text": [
      "+-------+------+----------+--------------------+--------------------+\n",
      "|movieId|userId|prediction|               title|              genres|\n",
      "+-------+------+----------+--------------------+--------------------+\n",
      "|  33649|     1| 5.6744037|  Saving Face (2004)|Comedy|Drama|Romance|\n",
      "|  78836|     1|  5.412517|Enter the Void (2...|               Drama|\n",
      "|   5466|     1|  5.528956|My Wife is an Act...|Comedy|Drama|Romance|\n",
      "|   6442|     1|  5.395703| Belle époque (1992)|      Comedy|Romance|\n",
      "| 132333|     1|  5.518676|         Seve (2014)|   Documentary|Drama|\n",
      "| 158872|     2| 4.5820627|Sausage Party (2016)|    Animation|Comedy|\n",
      "|   5466|     2|  4.644174|My Wife is an Act...|Comedy|Drama|Romance|\n",
      "|  33649|     2|  4.661236|  Saving Face (2004)|Comedy|Drama|Romance|\n",
      "|  89774|     2|  4.616292|      Warrior (2011)|               Drama|\n",
      "| 131724|     2| 4.8352394|The Jinx: The Lif...|         Documentary|\n",
      "|   5919|     3| 4.7393913|      Android (1982)|              Sci-Fi|\n",
      "|   5746|     3|  4.843273|Galaxy of Terror ...|Action|Horror|Mys...|\n",
      "|   6835|     3|  4.843273|Alien Contaminati...|Action|Horror|Sci-Fi|\n",
      "|   5181|     3| 4.7372136|    Hangar 18 (1980)|Action|Sci-Fi|Thr...|\n",
      "|  70946|     3|  4.888671|      Troll 2 (1990)|      Fantasy|Horror|\n",
      "|  25825|     4|  4.610635|         Fury (1936)|     Drama|Film-Noir|\n",
      "|   1733|     4|  4.729668|    Afterglow (1997)|       Drama|Romance|\n",
      "|   1046|     4| 4.8496757|Beautiful Thing (...|       Drama|Romance|\n",
      "|   4765|     4| 4.7112613|       L.I.E. (2001)|               Drama|\n",
      "|   2204|     4| 4.7004814|     Saboteur (1942)|    Mystery|Thriller|\n",
      "+-------+------+----------+--------------------+--------------------+\n",
      "only showing top 20 rows\n",
      "\n"
     ]
    }
   ],
   "source": [
    "# Make 5 movie recommendations per user using their highest predicted ratings\n",
    "recommendations = model.recommendForAllUsers(5)\n",
    "# Print Some Prediction\n",
    "recommendations.registerTempTable(\"ALS_recs_temp\")\n",
    "clean_recs = spark.sql(\"SELECT userId, movieIds_and_ratings.movieId AS movieId, movieIds_and_ratings.rating AS prediction FROM ALS_recs_temp LATERAL VIEW explode(recommendations) exploded_table AS movieIds_and_ratings\")\n",
    "clean_recs = clean_recs.join(movies, on=['movieId'], how='left').sort('userId')\n",
    "clean_recs.show()"
   ]
  },
  {
   "cell_type": "code",
   "execution_count": null,
   "metadata": {},
   "outputs": [],
   "source": [
    "# put in a random user number and return list of 5 titles\n",
    "clean_recs"
   ]
  },
  {
   "cell_type": "markdown",
   "metadata": {},
   "source": [
    "### Content Base Model"
   ]
  },
  {
   "cell_type": "code",
   "execution_count": 193,
   "metadata": {
    "scrolled": true
   },
   "outputs": [],
   "source": [
    "tags_pd = pd.read_csv(\"../../data/ml-latest-small/tags.csv\")\n",
    "movies_pd = pd.read_csv(\"../../data/ml-latest-small/movies.csv\")\n",
    "content_pd = movies_pd.merge(tags_pd, on = \"movieId\")\n",
    "\n",
    "# Separate the words in the genres column\n",
    "content_pd['genres'] = content_pd['genres'].str.replace('|',' ')\n",
    "\n",
    "# Since we have multiple tags for some movies from different users,\n",
    "# we will make a combined tags column to combine those different tags for each movie\n",
    "# and make a dataframe that has one row per movie\n",
    "movie_Ids = content_pd.movieId.unique()\n",
    "for movie in movie_Ids:\n",
    "    m = content_pd[content_pd.movieId == movie]\n",
    "    t = \"\"\n",
    "    for x in m.values:\n",
    "        if x[4] not in t:\n",
    "            t+= x[4]+\" \"\n",
    "    content_pd.loc[content_pd['movieId']==movie, 'combined_tags']=t\n",
    "    \n",
    "    \n",
    "content_pd = content_pd[['movieId', 'title', 'genres', 'combined_tags']]\n",
    "content_pd.drop_duplicates(inplace=True)\n",
    "content_pd.reset_index(inplace=True)"
   ]
  },
  {
   "cell_type": "code",
   "execution_count": 194,
   "metadata": {
    "scrolled": true
   },
   "outputs": [
    {
     "data": {
      "text/html": [
       "<div>\n",
       "<style scoped>\n",
       "    .dataframe tbody tr th:only-of-type {\n",
       "        vertical-align: middle;\n",
       "    }\n",
       "\n",
       "    .dataframe tbody tr th {\n",
       "        vertical-align: top;\n",
       "    }\n",
       "\n",
       "    .dataframe thead th {\n",
       "        text-align: right;\n",
       "    }\n",
       "</style>\n",
       "<table border=\"1\" class=\"dataframe\">\n",
       "  <thead>\n",
       "    <tr style=\"text-align: right;\">\n",
       "      <th></th>\n",
       "      <th>index</th>\n",
       "      <th>movieId</th>\n",
       "      <th>title</th>\n",
       "      <th>genres</th>\n",
       "      <th>combined_tags</th>\n",
       "    </tr>\n",
       "  </thead>\n",
       "  <tbody>\n",
       "    <tr>\n",
       "      <th>0</th>\n",
       "      <td>0</td>\n",
       "      <td>1</td>\n",
       "      <td>Toy Story (1995)</td>\n",
       "      <td>Adventure Animation Children Comedy Fantasy</td>\n",
       "      <td>pixar fun</td>\n",
       "    </tr>\n",
       "    <tr>\n",
       "      <th>1</th>\n",
       "      <td>3</td>\n",
       "      <td>2</td>\n",
       "      <td>Jumanji (1995)</td>\n",
       "      <td>Adventure Children Fantasy</td>\n",
       "      <td>fantasy magic board game Robin Williams</td>\n",
       "    </tr>\n",
       "    <tr>\n",
       "      <th>2</th>\n",
       "      <td>7</td>\n",
       "      <td>3</td>\n",
       "      <td>Grumpier Old Men (1995)</td>\n",
       "      <td>Comedy Romance</td>\n",
       "      <td>moldy</td>\n",
       "    </tr>\n",
       "    <tr>\n",
       "      <th>3</th>\n",
       "      <td>9</td>\n",
       "      <td>5</td>\n",
       "      <td>Father of the Bride Part II (1995)</td>\n",
       "      <td>Comedy</td>\n",
       "      <td>pregnancy remake</td>\n",
       "    </tr>\n",
       "    <tr>\n",
       "      <th>4</th>\n",
       "      <td>11</td>\n",
       "      <td>7</td>\n",
       "      <td>Sabrina (1995)</td>\n",
       "      <td>Comedy Romance</td>\n",
       "      <td>remake</td>\n",
       "    </tr>\n",
       "  </tbody>\n",
       "</table>\n",
       "</div>"
      ],
      "text/plain": [
       "   index  movieId                               title  \\\n",
       "0      0        1                    Toy Story (1995)   \n",
       "1      3        2                      Jumanji (1995)   \n",
       "2      7        3             Grumpier Old Men (1995)   \n",
       "3      9        5  Father of the Bride Part II (1995)   \n",
       "4     11        7                      Sabrina (1995)   \n",
       "\n",
       "                                        genres  \\\n",
       "0  Adventure Animation Children Comedy Fantasy   \n",
       "1                   Adventure Children Fantasy   \n",
       "2                               Comedy Romance   \n",
       "3                                       Comedy   \n",
       "4                               Comedy Romance   \n",
       "\n",
       "                              combined_tags  \n",
       "0                                pixar fun   \n",
       "1  fantasy magic board game Robin Williams   \n",
       "2                                    moldy   \n",
       "3                         pregnancy remake   \n",
       "4                                   remake   "
      ]
     },
     "execution_count": 194,
     "metadata": {},
     "output_type": "execute_result"
    }
   ],
   "source": [
    "content_pd.head()"
   ]
  },
  {
   "cell_type": "code",
   "execution_count": 195,
   "metadata": {},
   "outputs": [
    {
     "name": "stdout",
     "output_type": "stream",
     "text": [
      "Top 5 similar movies to Jumanji (1995) are:\n",
      "\n",
      "Lord of the Rings: The Fellowship of the Ring, The (2001)\n",
      "Harry Potter and the Chamber of Secrets (2002)\n",
      "Chronicles of Narnia: The Lion, the Witch and the Wardrobe, The (2005)\n",
      "Chronicles of Narnia: Prince Caspian, The (2008)\n",
      "Sinbad: Legend of the Seven Seas (2003)\n"
     ]
    }
   ],
   "source": [
    "import pandas as pd\n",
    "import numpy as np\n",
    "from sklearn.feature_extraction.text import CountVectorizer\n",
    "from sklearn.metrics.pairwise import cosine_similarity\n",
    "\n",
    "features = ['genres','combined_tags']\n",
    "\n",
    "def combine_features(row):\n",
    "    return row['genres'] +\" \"+row['combined_tags']\n",
    "\n",
    "for feature in features:\n",
    "    content_pd[feature] = content_pd[feature].fillna('')\n",
    "    \n",
    "content_pd[\"combined_features\"] = content_pd.apply(combine_features,axis=1)\n",
    "\n",
    "cv = CountVectorizer()\n",
    "count_matrix = cv.fit_transform(content_pd[\"combined_features\"])\n",
    "\n",
    "cosine_sim = cosine_similarity(count_matrix)\n",
    "\n",
    "def get_title_from_index(index):\n",
    "    return content_pd[content_pd.index == index][\"title\"].values[0]\n",
    "\n",
    "def get_index_from_title(title):\n",
    "    return content_pd[content_pd.title == title].index[0]\n",
    "\n",
    "movie_user_likes = \"Jumanji (1995)\"\n",
    "movie_index = get_index_from_title(movie_user_likes)\n",
    "similar_movies =  list(enumerate(cosine_sim[movie_index]))\n",
    "sorted_similar_movies = sorted(similar_movies,key=lambda x:x[1],reverse=True)[1:]\n",
    "i=0\n",
    "\n",
    "print(\"Top 5 similar movies to \"+movie_user_likes+\" are:\\n\")\n",
    "\n",
    "for element in sorted_similar_movies:\n",
    "    print(get_title_from_index(element[0]))\n",
    "    i=i+1\n",
    "    if i>=5:\n",
    "        break"
   ]
  },
  {
   "cell_type": "code",
   "execution_count": null,
   "metadata": {},
   "outputs": [],
   "source": []
  },
  {
   "cell_type": "code",
   "execution_count": null,
   "metadata": {},
   "outputs": [],
   "source": []
  },
  {
   "cell_type": "code",
   "execution_count": null,
   "metadata": {},
   "outputs": [],
   "source": []
  },
  {
   "cell_type": "code",
   "execution_count": 241,
   "metadata": {},
   "outputs": [
    {
     "data": {
      "text/plain": [
       "1572"
      ]
     },
     "execution_count": 241,
     "metadata": {},
     "output_type": "execute_result"
    }
   ],
   "source": [
    "len(content_pd)"
   ]
  },
  {
   "cell_type": "code",
   "execution_count": 230,
   "metadata": {},
   "outputs": [],
   "source": [
    "movie_genres = content_pd.genres.unique()"
   ]
  },
  {
   "cell_type": "code",
   "execution_count": 231,
   "metadata": {},
   "outputs": [],
   "source": [
    "movie_genres = \" \".join(movie_genres)"
   ]
  },
  {
   "cell_type": "code",
   "execution_count": 238,
   "metadata": {},
   "outputs": [],
   "source": [
    "from nltk.tokenize import word_tokenize\n",
    "from collections import Counter\n",
    "\n",
    "word_tokens = word_tokenize(movie_genres)\n",
    "stopset = ['no', 'genres', 'listed', '(', ')']\n",
    "cleanup = [token for token in word_tokens if token not in stopset]\n",
    "bow = Counter(cleanup)"
   ]
  },
  {
   "cell_type": "code",
   "execution_count": 266,
   "metadata": {},
   "outputs": [],
   "source": [
    "bow_dict = dict(bow)"
   ]
  },
  {
   "cell_type": "code",
   "execution_count": 339,
   "metadata": {},
   "outputs": [],
   "source": [
    "bow_df = (pd.DataFrame.from_dict(bow_dict, orient='index', columns=[\"count\"]))\n",
    "bow_df.sort_values('count', ascending=False, inplace=True)\n",
    "bow_df.reset_index(inplace=True)\n",
    "bow_df.columns=['Genre', 'Movie Count']"
   ]
  },
  {
   "cell_type": "code",
   "execution_count": 316,
   "metadata": {},
   "outputs": [
    {
     "data": {
      "text/html": [
       "<div>\n",
       "<style scoped>\n",
       "    .dataframe tbody tr th:only-of-type {\n",
       "        vertical-align: middle;\n",
       "    }\n",
       "\n",
       "    .dataframe tbody tr th {\n",
       "        vertical-align: top;\n",
       "    }\n",
       "\n",
       "    .dataframe thead th {\n",
       "        text-align: right;\n",
       "    }\n",
       "</style>\n",
       "<table border=\"1\" class=\"dataframe\">\n",
       "  <thead>\n",
       "    <tr style=\"text-align: right;\">\n",
       "      <th></th>\n",
       "      <th>Genre</th>\n",
       "      <th>Count</th>\n",
       "    </tr>\n",
       "  </thead>\n",
       "  <tbody>\n",
       "    <tr>\n",
       "      <th>0</th>\n",
       "      <td>Drama</td>\n",
       "      <td>152</td>\n",
       "    </tr>\n",
       "    <tr>\n",
       "      <th>1</th>\n",
       "      <td>Comedy</td>\n",
       "      <td>119</td>\n",
       "    </tr>\n",
       "    <tr>\n",
       "      <th>2</th>\n",
       "      <td>Adventure</td>\n",
       "      <td>113</td>\n",
       "    </tr>\n",
       "    <tr>\n",
       "      <th>3</th>\n",
       "      <td>Action</td>\n",
       "      <td>109</td>\n",
       "    </tr>\n",
       "    <tr>\n",
       "      <th>4</th>\n",
       "      <td>Thriller</td>\n",
       "      <td>99</td>\n",
       "    </tr>\n",
       "    <tr>\n",
       "      <th>5</th>\n",
       "      <td>Fantasy</td>\n",
       "      <td>82</td>\n",
       "    </tr>\n",
       "    <tr>\n",
       "      <th>6</th>\n",
       "      <td>Romance</td>\n",
       "      <td>82</td>\n",
       "    </tr>\n",
       "    <tr>\n",
       "      <th>7</th>\n",
       "      <td>Sci-Fi</td>\n",
       "      <td>78</td>\n",
       "    </tr>\n",
       "    <tr>\n",
       "      <th>8</th>\n",
       "      <td>Crime</td>\n",
       "      <td>71</td>\n",
       "    </tr>\n",
       "    <tr>\n",
       "      <th>9</th>\n",
       "      <td>Animation</td>\n",
       "      <td>70</td>\n",
       "    </tr>\n",
       "    <tr>\n",
       "      <th>10</th>\n",
       "      <td>Children</td>\n",
       "      <td>60</td>\n",
       "    </tr>\n",
       "    <tr>\n",
       "      <th>11</th>\n",
       "      <td>Mystery</td>\n",
       "      <td>60</td>\n",
       "    </tr>\n",
       "    <tr>\n",
       "      <th>12</th>\n",
       "      <td>Musical</td>\n",
       "      <td>40</td>\n",
       "    </tr>\n",
       "    <tr>\n",
       "      <th>13</th>\n",
       "      <td>Horror</td>\n",
       "      <td>39</td>\n",
       "    </tr>\n",
       "    <tr>\n",
       "      <th>14</th>\n",
       "      <td>War</td>\n",
       "      <td>23</td>\n",
       "    </tr>\n",
       "    <tr>\n",
       "      <th>15</th>\n",
       "      <td>IMAX</td>\n",
       "      <td>20</td>\n",
       "    </tr>\n",
       "    <tr>\n",
       "      <th>16</th>\n",
       "      <td>Film-Noir</td>\n",
       "      <td>19</td>\n",
       "    </tr>\n",
       "    <tr>\n",
       "      <th>17</th>\n",
       "      <td>Western</td>\n",
       "      <td>16</td>\n",
       "    </tr>\n",
       "    <tr>\n",
       "      <th>18</th>\n",
       "      <td>Documentary</td>\n",
       "      <td>9</td>\n",
       "    </tr>\n",
       "  </tbody>\n",
       "</table>\n",
       "</div>"
      ],
      "text/plain": [
       "          Genre  Count\n",
       "0         Drama    152\n",
       "1        Comedy    119\n",
       "2     Adventure    113\n",
       "3        Action    109\n",
       "4      Thriller     99\n",
       "5       Fantasy     82\n",
       "6       Romance     82\n",
       "7        Sci-Fi     78\n",
       "8         Crime     71\n",
       "9     Animation     70\n",
       "10     Children     60\n",
       "11      Mystery     60\n",
       "12      Musical     40\n",
       "13       Horror     39\n",
       "14          War     23\n",
       "15         IMAX     20\n",
       "16    Film-Noir     19\n",
       "17      Western     16\n",
       "18  Documentary      9"
      ]
     },
     "execution_count": 316,
     "metadata": {},
     "output_type": "execute_result"
    }
   ],
   "source": [
    "bow_df"
   ]
  },
  {
   "cell_type": "code",
   "execution_count": 340,
   "metadata": {},
   "outputs": [
    {
     "data": {
      "image/png": "[encoded data removed]",
      "text/plain": [
       "<Figure size 800x400 with 1 Axes>"
      ]
     },
     "metadata": {},
     "output_type": "display_data"
    }
   ],
   "source": [
    "import seaborn as sns\n",
    "import matplotlib.pyplot as plt\n",
    "\n",
    "\n",
    "plt.style.use('default')\n",
    "sns.set(context = 'notebook', style = 'whitegrid', font_scale=1)\n",
    "\n",
    "fig, ax = plt.subplots(figsize=(8,4))\n",
    "sns.barplot(x=bow_df['Movie Count'], y=bow_df['Genre'], alpha=.8, palette='spring')\n",
    "ax.set(title = 'Genres by Frequency');"
   ]
  },
  {
   "cell_type": "code",
   "execution_count": null,
   "metadata": {},
   "outputs": [],
   "source": []
  }
 ],
 "metadata": {
  "kernelspec": {
   "display_name": "learn-env",
   "language": "python",
   "name": "learn-env"
  },
  "language_info": {
   "codemirror_mode": {
    "name": "ipython",
    "version": 3
   },
   "file_extension": ".py",
   "mimetype": "text/x-python",
   "name": "python",
   "nbconvert_exporter": "python",
   "pygments_lexer": "ipython3",
   "version": "3.8.5"
  }
 },
 "nbformat": 4,
 "nbformat_minor": 4
}
