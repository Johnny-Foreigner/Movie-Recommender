{
 "cells": [
  {
   "cell_type": "markdown",
   "metadata": {},
   "source": [
    "# Recommendation System\n",
    "\n",
    "You will be making movie recommendations based on the <a href=\"https://grouplens.org/datasets/movielens/latest/\">MovieLens dataset</a> from the GroupLens research lab at the University of Minnesota. Unless you are planning to run your analysis on a paid cloud platform, we recommend that you use the \"small\" dataset containing 100,000 user ratings (and potentially, only a particular subset of that dataset).\n",
    "\n",
    "Your task is to:\n",
    "\n",
    "    Build a model that provides top 5 movie recommendations to a user, based on their ratings of other movies.\n",
    "\n",
    "The MovieLens dataset is a \"classic\" recommendation system dataset, that is used in numerous academic papers and machine learning proofs-of-concept. You will need to create the specific details about how the user will provide their ratings of other movies, in addition to formulating a more specific business problem within the general context of \"recommending movies\".\n",
    "\n",
    "#### Collaborative Filtering\n",
    "At minimum, your recommendation system must use collaborative filtering. If you have time, consider implementing a hybrid approach, e.g. using collaborative filtering as the primary mechanism, but using content-based filtering to address the <a href=\"https://en.wikipedia.org/wiki/Cold_start_(recommender_systems)\">cold start</a> problem.\n",
    "\n",
    "#### Evaluation\n",
    "The MovieLens dataset has explicit ratings, so achieving some sort of evaluation of your model is simple enough. But you should give some thought to the question of metrics. Since the rankings are ordinal, we know we can treat this like a regression problem. But when it comes to regression metrics there are several choices: RMSE, MAE, etc. Here are some further ideas."
   ]
  },
  {
   "cell_type": "markdown",
   "metadata": {},
   "source": [
    "## Import Packages"
   ]
  },
  {
   "cell_type": "code",
   "execution_count": 1,
   "metadata": {},
   "outputs": [],
   "source": [
    "import zipfile\n",
    "import pandas as pd\n",
    "import numpy as np\n",
    "\n",
    "import pyspark\n",
    "from pyspark.sql import SparkSession\n",
    "\n",
    "# import pyspark.sql.functions\n",
    "from pyspark.sql.functions import col, min, max, avg\n",
    "\n",
    "from pyspark.ml.recommendation import ALS\n",
    "\n",
    "# Import RegressionEvaluator\n",
    "from pyspark.ml.evaluation import RegressionEvaluator\n",
    "\n",
    "# Import ParamGridBuilder, CrossValidator\n",
    "from pyspark.ml.tuning import ParamGridBuilder, CrossValidator\n",
    "\n",
    "# Start a spark session\n",
    "spark = SparkSession.builder.getOrCreate()"
   ]
  },
  {
   "cell_type": "markdown",
   "metadata": {},
   "source": [
    "## Import Data"
   ]
  },
  {
   "cell_type": "code",
   "execution_count": 2,
   "metadata": {
    "scrolled": true
   },
   "outputs": [],
   "source": [
    "# Download the data\n",
    "\n",
    "# ! wget -P ../../data http://files.grouplens.org/datasets/movielens/ml-latest-small.zip"
   ]
  },
  {
   "cell_type": "code",
   "execution_count": 3,
   "metadata": {},
   "outputs": [],
   "source": [
    "# Unzip the data\n",
    "\n",
    "# with zipfile.ZipFile('../../data/ml-latest-small.zip', 'r') as zip_ref:\n",
    "#     zip_ref.extractall('../../data')"
   ]
  },
  {
   "cell_type": "code",
   "execution_count": 4,
   "metadata": {},
   "outputs": [],
   "source": [
    "# Read in the data to Pandas DataFrames\n",
    "\n",
    "# links_pd = pd.read_csv('../../data/ml-latest-small/links.csv')\n",
    "# movies_pd = pd.read_csv('../../data/ml-latest-small/movies.csv')\n",
    "# ratings_pd = pd.read_csv('../../data/ml-latest-small/ratings.csv')\n",
    "# tags_pd = pd.read_csv('../../data/ml-latest-small/tags.csv')"
   ]
  },
  {
   "cell_type": "code",
   "execution_count": 5,
   "metadata": {},
   "outputs": [],
   "source": [
    "# Read in the data with spark DataFrames\n",
    "links = spark.read.csv('../../data/ml-latest-small/links.csv', header=True)\n",
    "movies = spark.read.csv(\"../../data/ml-latest-small/movies.csv\", header=True)\n",
    "ratings = spark.read.csv(\"../../data/ml-latest-small/ratings.csv\", header=True)\n",
    "tags = spark.read.csv(\"../../data/ml-latest-small/tags.csv\", header=True)"
   ]
  },
  {
   "cell_type": "markdown",
   "metadata": {},
   "source": [
    "## Data exploration & manipulation"
   ]
  },
  {
   "cell_type": "code",
   "execution_count": 6,
   "metadata": {},
   "outputs": [],
   "source": [
    "# Drop the Timestamp Column from ratings\n",
    "ratings = ratings.select('userID', 'movieID', 'rating')\n",
    "\n",
    "# Change dtypes from strings to numeric\n",
    "ratings = ratings.select(ratings.userID.cast(\"integer\"),\n",
    "                         ratings.movieID.cast(\"integer\"),\n",
    "                         ratings.rating.cast(\"double\"))\n",
    "\n",
    "\n",
    "# Add ratings table to spark session\n",
    "# ratings.createOrReplaceTempView('ratings')\n",
    "# print(spark.catalog.listTables())"
   ]
  },
  {
   "cell_type": "code",
   "execution_count": 7,
   "metadata": {},
   "outputs": [
    {
     "name": "stdout",
     "output_type": "stream",
     "text": [
      "+------+-------+-----------------+----------+\n",
      "|userId|movieId|              tag| timestamp|\n",
      "+------+-------+-----------------+----------+\n",
      "|     2|  60756|            funny|1445714994|\n",
      "|     2|  60756|  Highly quotable|1445714996|\n",
      "|     2|  60756|     will ferrell|1445714992|\n",
      "|     2|  89774|     Boxing story|1445715207|\n",
      "|     2|  89774|              MMA|1445715200|\n",
      "|     2|  89774|        Tom Hardy|1445715205|\n",
      "|     2| 106782|            drugs|1445715054|\n",
      "|     2| 106782|Leonardo DiCaprio|1445715051|\n",
      "|     2| 106782|  Martin Scorsese|1445715056|\n",
      "|     7|  48516|     way too long|1169687325|\n",
      "+------+-------+-----------------+----------+\n",
      "only showing top 10 rows\n",
      "\n"
     ]
    }
   ],
   "source": [
    "tags.show(10)"
   ]
  },
  {
   "cell_type": "code",
   "execution_count": 8,
   "metadata": {},
   "outputs": [
    {
     "data": {
      "text/plain": [
       "['userID', 'movieID', 'rating']"
      ]
     },
     "execution_count": 8,
     "metadata": {},
     "output_type": "execute_result"
    }
   ],
   "source": [
    "ratings.columns"
   ]
  },
  {
   "cell_type": "code",
   "execution_count": 9,
   "metadata": {},
   "outputs": [
    {
     "data": {
      "text/plain": [
       "[('userID', 'int'), ('movieID', 'int'), ('rating', 'double')]"
      ]
     },
     "execution_count": 9,
     "metadata": {},
     "output_type": "execute_result"
    }
   ],
   "source": [
    "ratings.dtypes"
   ]
  },
  {
   "cell_type": "code",
   "execution_count": 10,
   "metadata": {},
   "outputs": [
    {
     "name": "stdout",
     "output_type": "stream",
     "text": [
      "+-------+-------+------+\n",
      "|movieId| imdbId|tmdbId|\n",
      "+-------+-------+------+\n",
      "|      1|0114709|   862|\n",
      "|      2|0113497|  8844|\n",
      "|      3|0113228| 15602|\n",
      "|      4|0114885| 31357|\n",
      "|      5|0113041| 11862|\n",
      "|      6|0113277|   949|\n",
      "|      7|0114319| 11860|\n",
      "|      8|0112302| 45325|\n",
      "|      9|0114576|  9091|\n",
      "|     10|0113189|   710|\n",
      "+-------+-------+------+\n",
      "only showing top 10 rows\n",
      "\n"
     ]
    }
   ],
   "source": [
    "links.show(10)"
   ]
  },
  {
   "cell_type": "markdown",
   "metadata": {},
   "source": [
    "#### Calculating Sparsity"
   ]
  },
  {
   "cell_type": "code",
   "execution_count": 11,
   "metadata": {},
   "outputs": [
    {
     "name": "stdout",
     "output_type": "stream",
     "text": [
      "The ratings dataframe is  98.30% empty.\n"
     ]
    }
   ],
   "source": [
    "# Count the total number of ratings in the dataset\n",
    "numerator = ratings.select(\"rating\").count()\n",
    "\n",
    "# Count the number of distinct userIds and distinct movieIds\n",
    "num_users = ratings.select(\"userId\").distinct().count()\n",
    "num_movies = ratings.select(\"movieId\").distinct().count()\n",
    "\n",
    "# Set the denominator equal to the number of users multiplied by the number of movies\n",
    "denominator = num_users * num_movies\n",
    "\n",
    "# Divide the numerator by the denominator\n",
    "sparsity = (1.0 - (numerator *1.0)/denominator)*100\n",
    "print(\"The ratings dataframe is \", \"%.2f\" % sparsity + \"% empty.\")"
   ]
  },
  {
   "cell_type": "markdown",
   "metadata": {},
   "source": [
    "#### Ratings Summary Statistics"
   ]
  },
  {
   "cell_type": "code",
   "execution_count": 12,
   "metadata": {},
   "outputs": [
    {
     "name": "stdout",
     "output_type": "stream",
     "text": [
      "+------+-----+\n",
      "|userID|count|\n",
      "+------+-----+\n",
      "|   148|   48|\n",
      "|   463|   33|\n",
      "|   471|   28|\n",
      "|   496|   29|\n",
      "|   243|   36|\n",
      "|   392|   25|\n",
      "|   540|   42|\n",
      "|    31|   50|\n",
      "|   516|   26|\n",
      "|    85|   34|\n",
      "+------+-----+\n",
      "only showing top 10 rows\n",
      "\n"
     ]
    }
   ],
   "source": [
    "# Group data by userId, count ratings\n",
    "ratings.groupBy(\"userID\").count().show(10)"
   ]
  },
  {
   "cell_type": "code",
   "execution_count": 13,
   "metadata": {},
   "outputs": [
    {
     "name": "stdout",
     "output_type": "stream",
     "text": [
      "Movie with the fewest ratings: \n",
      "+----------+\n",
      "|min(count)|\n",
      "+----------+\n",
      "|         1|\n",
      "+----------+\n",
      "\n",
      "Avg num ratings per movie: \n",
      "+------------------+\n",
      "|        avg(count)|\n",
      "+------------------+\n",
      "|10.369806663924312|\n",
      "+------------------+\n",
      "\n",
      "User with the fewest ratings: \n",
      "+----------+\n",
      "|min(count)|\n",
      "+----------+\n",
      "|        20|\n",
      "+----------+\n",
      "\n",
      "Avg num ratings per user: \n",
      "+------------------+\n",
      "|        avg(count)|\n",
      "+------------------+\n",
      "|165.30491803278687|\n",
      "+------------------+\n",
      "\n"
     ]
    }
   ],
   "source": [
    "# Min num ratings for movies\n",
    "print(\"Movie with the fewest ratings: \")\n",
    "ratings.groupBy(\"movieID\").count().select(min(\"count\")).show()\n",
    "\n",
    "# Avg num ratings per movie\n",
    "print(\"Avg num ratings per movie: \")\n",
    "ratings.groupBy(\"movieID\").count().select(avg(\"count\")).show()\n",
    "\n",
    "# Min num ratings for user\n",
    "print(\"User with the fewest ratings: \")\n",
    "ratings.groupBy(\"userID\").count().select(min(\"count\")).show()\n",
    "\n",
    "# Avg num ratings per users\n",
    "print(\"Avg num ratings per user: \")\n",
    "ratings.groupBy(\"userID\").count().select(avg(\"count\")).show()"
   ]
  },
  {
   "cell_type": "code",
   "execution_count": 14,
   "metadata": {},
   "outputs": [
    {
     "name": "stdout",
     "output_type": "stream",
     "text": [
      "root\n",
      " |-- userID: integer (nullable = true)\n",
      " |-- movieID: integer (nullable = true)\n",
      " |-- rating: double (nullable = true)\n",
      "\n"
     ]
    }
   ],
   "source": [
    "ratings.printSchema()"
   ]
  },
  {
   "cell_type": "markdown",
   "metadata": {},
   "source": [
    "#### FSM"
   ]
  },
  {
   "cell_type": "code",
   "execution_count": 15,
   "metadata": {},
   "outputs": [
    {
     "name": "stdout",
     "output_type": "stream",
     "text": [
      "+------+-------+------+-----------+\n",
      "|userID|movieID|rating| prediction|\n",
      "+------+-------+------+-----------+\n",
      "|   182|    471|   4.5| 0.60043967|\n",
      "|   462|    471|   2.5| 0.48213986|\n",
      "|   610|    471|   4.0| 0.15886141|\n",
      "|   176|    471|   5.0| 0.24627937|\n",
      "|   448|    471|   4.0|  0.4772345|\n",
      "|   608|    833|   0.5| 0.07938771|\n",
      "|   463|   1088|   3.5|0.031147564|\n",
      "|   606|   1088|   3.0| 0.49066234|\n",
      "|   563|   1088|   4.0|  0.6199479|\n",
      "|   387|   1088|   1.5| 0.44290695|\n",
      "|   381|   1088|   3.5| 0.62757486|\n",
      "|   594|   1088|   4.5| 0.24537411|\n",
      "|    10|   1088|   3.0|  0.3181059|\n",
      "|   226|   1088|   1.0|  0.5522457|\n",
      "|   414|   1088|   3.0|  0.7986954|\n",
      "|    68|   1088|   3.5|  0.9275609|\n",
      "|   116|   1088|   4.5| 0.12881464|\n",
      "|    42|   1088|   3.0| 0.25902092|\n",
      "|   587|   1580|   4.0|  0.5611114|\n",
      "|   577|   1580|   3.0| 0.60380816|\n",
      "+------+-------+------+-----------+\n",
      "only showing top 20 rows\n",
      "\n"
     ]
    }
   ],
   "source": [
    "# Split the ratings dataframe into training and test data\n",
    "(training_data, test_data) = ratings.randomSplit([.8, .2], seed=42)\n",
    "\n",
    "# Set the ALS hyperparameters\n",
    "als_fsm = ALS(userCol=\"userID\", itemCol=\"movieID\", ratingCol=\"rating\", rank =10, maxIter =15, regParam =.1,\n",
    "          coldStartStrategy=\"drop\", nonnegative =True, implicitPrefs = True)\n",
    "\n",
    "# Fit the model to the training_data\n",
    "fsm = als_fsm.fit(training_data)\n",
    "\n",
    "# Generate predictions on the test_data\n",
    "test_predictions = fsm.transform(test_data)\n",
    "test_predictions.show()"
   ]
  },
  {
   "cell_type": "markdown",
   "metadata": {},
   "source": [
    "#### Build RMSE evaluator"
   ]
  },
  {
   "cell_type": "code",
   "execution_count": 16,
   "metadata": {},
   "outputs": [],
   "source": [
    "# Complete the evaluator code\n",
    "evaluator = RegressionEvaluator(metricName=\"rmse\", labelCol=\"rating\", predictionCol=\"prediction\")"
   ]
  },
  {
   "cell_type": "code",
   "execution_count": 17,
   "metadata": {},
   "outputs": [
    {
     "name": "stdout",
     "output_type": "stream",
     "text": [
      "3.221041348721874\n"
     ]
    }
   ],
   "source": [
    "# Evaluate the \"test_predictions\" dataframe\n",
    "RMSE = evaluator.evaluate(test_predictions)\n",
    "\n",
    "# Print the RMSE\n",
    "print (RMSE)"
   ]
  },
  {
   "cell_type": "markdown",
   "metadata": {},
   "source": [
    "#### Tuning Hyperparameters"
   ]
  },
  {
   "cell_type": "code",
   "execution_count": 18,
   "metadata": {},
   "outputs": [],
   "source": [
    "# Create test and train set\n",
    "(train, test) = ratings.randomSplit([0.8, 0.2], seed=42)\n",
    "\n",
    "# Create ALS model\n",
    "als = ALS(userCol=\"userID\", itemCol=\"movieID\", ratingCol=\"rating\", coldStartStrategy=\"drop\", nonnegative = True, implicitPrefs = False)"
   ]
  },
  {
   "cell_type": "code",
   "execution_count": 38,
   "metadata": {},
   "outputs": [
    {
     "name": "stdout",
     "output_type": "stream",
     "text": [
      "Num models to be tested:  5\n"
     ]
    }
   ],
   "source": [
    "# Add hyperparameters and their respective values to param_grid\n",
    "param_grid = ParamGridBuilder() \\\n",
    "            .addGrid(als.rank, [10, 25, 50, 75, 100]) \\\n",
    "            .build()\n",
    "#             .addGrid(als.regParam, [.05, .1, .15, .2]) \\\n",
    "#             .addGrid(als.maxIter, [5, 25, 50, 75, 100]) \\\n",
    "\n",
    "# print length of evaluator\n",
    "print (\"Num models to be tested: \", len(param_grid))"
   ]
  },
  {
   "cell_type": "code",
   "execution_count": 39,
   "metadata": {},
   "outputs": [],
   "source": [
    "# Build cross validation using CrossValidator\n",
    "cv = CrossValidator(estimator=als, estimatorParamMaps=param_grid, evaluator=evaluator, numFolds=3)"
   ]
  },
  {
   "cell_type": "code",
   "execution_count": 40,
   "metadata": {},
   "outputs": [],
   "source": [
    "# Fit cross validator to the 'train' dataset\n",
    "model = cv.fit(train)"
   ]
  },
  {
   "cell_type": "code",
   "execution_count": 41,
   "metadata": {},
   "outputs": [],
   "source": [
    "#Extract best model from the cv model above\n",
    "best_model = model.bestModel"
   ]
  },
  {
   "cell_type": "code",
   "execution_count": 42,
   "metadata": {},
   "outputs": [
    {
     "name": "stdout",
     "output_type": "stream",
     "text": [
      "**Best Model**\n",
      "\n",
      "\n",
      "  ParamMap: {\n",
      "\tALS_254ecd8984e7-alpha: 1.0,\n",
      "\tALS_254ecd8984e7-blockSize: 4096,\n",
      "\tALS_254ecd8984e7-checkpointInterval: 10,\n",
      "\tALS_254ecd8984e7-coldStartStrategy: drop,\n",
      "\tALS_254ecd8984e7-finalStorageLevel: MEMORY_AND_DISK,\n",
      "\tALS_254ecd8984e7-implicitPrefs: false,\n",
      "\tALS_254ecd8984e7-intermediateStorageLevel: MEMORY_AND_DISK,\n",
      "\tALS_254ecd8984e7-itemCol: movieID,\n",
      "\tALS_254ecd8984e7-maxIter: 10,\n",
      "\tALS_254ecd8984e7-nonnegative: true,\n",
      "\tALS_254ecd8984e7-numItemBlocks: 10,\n",
      "\tALS_254ecd8984e7-numUserBlocks: 10,\n",
      "\tALS_254ecd8984e7-predictionCol: prediction,\n",
      "\tALS_254ecd8984e7-rank: 50,\n",
      "\tALS_254ecd8984e7-ratingCol: rating,\n",
      "\tALS_254ecd8984e7-regParam: 0.15,\n",
      "\tALS_254ecd8984e7-seed: -2848911472366898902,\n",
      "\tALS_254ecd8984e7-userCol: userID\n",
      "}\n"
     ]
    }
   ],
   "source": [
    "# Complete the code below to extract the ALS model parameters\n",
    "print(\"**Best Model**\")\n",
    "\n",
    "# Print \"Rank\"\n",
    "# print(\"  Rank:\", best_model._java_obj.parent().getRank())\n",
    "#   Rank: 50\n",
    "\n",
    "# Print \"MaxIter\"\n",
    "# print(\"  MaxIter:\", best_model._java_obj.parent().getMaxIter())\n",
    "\n",
    "# Print \"RegParam\"\n",
    "# print(\"  RegParam:\", best_model._java_obj.parent().getRegParam())\n",
    "\n",
    "# Print \"ParamMap\"\n",
    "print(\"\\n\\n  ParamMap:\", best_model._java_obj.parent().extractParamMap())\n"
   ]
  },
  {
   "cell_type": "code",
   "execution_count": 25,
   "metadata": {},
   "outputs": [
    {
     "name": "stdout",
     "output_type": "stream",
     "text": [
      "+------+-------+------+----------+\n",
      "|userID|movieID|rating|prediction|\n",
      "+------+-------+------+----------+\n",
      "|   182|    471|   4.5| 3.5432718|\n",
      "|   462|    471|   2.5| 2.6285312|\n",
      "|   610|    471|   4.0|  3.491257|\n",
      "|   176|    471|   5.0| 3.4462972|\n",
      "|   448|    471|   4.0|  3.078767|\n",
      "|   608|    833|   0.5| 2.0994062|\n",
      "|   463|   1088|   3.5|  3.639413|\n",
      "|   606|   1088|   3.0|   3.34542|\n",
      "|   563|   1088|   4.0| 3.3124366|\n",
      "|   387|   1088|   1.5| 2.7312846|\n",
      "|   381|   1088|   3.5|  3.628671|\n",
      "|   594|   1088|   4.5| 4.1675105|\n",
      "|    10|   1088|   3.0| 3.2094507|\n",
      "|   226|   1088|   1.0| 3.3509235|\n",
      "|   414|   1088|   3.0| 3.3123379|\n",
      "|    68|   1088|   3.5| 3.3393269|\n",
      "|   116|   1088|   4.5| 3.5931325|\n",
      "|    42|   1088|   3.0| 3.4111865|\n",
      "|   587|   1580|   4.0| 3.8609521|\n",
      "|   577|   1580|   3.0| 3.2277164|\n",
      "+------+-------+------+----------+\n",
      "only showing top 20 rows\n",
      "\n"
     ]
    }
   ],
   "source": [
    "# New model with best params\n",
    "als = ALS(userCol=\"userID\", itemCol=\"movieID\", rank=50, regParam=0.15, ratingCol=\"rating\", coldStartStrategy=\"drop\", nonnegative = True, implicitPrefs = False)\n",
    "# Fit model to train\n",
    "model = als.fit(train)\n",
    "\n",
    "# Use mode to predict on test\n",
    "test_predictions = model.transform(test)\n",
    "test_predictions.show()"
   ]
  },
  {
   "cell_type": "code",
   "execution_count": 26,
   "metadata": {},
   "outputs": [
    {
     "name": "stdout",
     "output_type": "stream",
     "text": [
      "0.8663533147645811\n"
     ]
    }
   ],
   "source": [
    "# Evaluate the \"test_predictions\" dataframe\n",
    "RMSE = evaluator.evaluate(test_predictions)\n",
    "\n",
    "# Print the RMSE\n",
    "print (RMSE)"
   ]
  },
  {
   "cell_type": "code",
   "execution_count": 27,
   "metadata": {},
   "outputs": [],
   "source": [
    "recommendations = model.recommendForAllUsers(5)"
   ]
  },
  {
   "cell_type": "code",
   "execution_count": 28,
   "metadata": {},
   "outputs": [],
   "source": [
    "recommendations.registerTempTable(\"ALS_recs_temp\")\n",
    "clean_recs = spark.sql(\"SELECT userID, movieIds_and_ratings.movieId AS movieID, movieIds_and_ratings.rating AS prediction FROM ALS_recs_temp LATERAL VIEW explode(recommendations) exploded_table AS movieIds_and_ratings\")"
   ]
  },
  {
   "cell_type": "code",
   "execution_count": 29,
   "metadata": {
    "scrolled": false
   },
   "outputs": [
    {
     "name": "stdout",
     "output_type": "stream",
     "text": [
      "+------+-------+----------+\n",
      "|userID|movieID|prediction|\n",
      "+------+-------+----------+\n",
      "|   471|  96004| 4.7351313|\n",
      "|   471|   3379| 4.7351313|\n",
      "|   471|   7096|  4.674054|\n",
      "|   471| 177593|  4.666936|\n",
      "|   471|  33649|  4.649665|\n",
      "|   463|  96004|  5.008803|\n",
      "|   463|   3379|  5.008803|\n",
      "|   463|  33649| 4.9356914|\n",
      "|   463| 171495|  4.852105|\n",
      "|   463|   7071| 4.7728896|\n",
      "|   496|  25771| 4.3943233|\n",
      "|   496|  96004|  4.343777|\n",
      "|   496|   3379|  4.343777|\n",
      "|   496|  33649| 4.2761493|\n",
      "|   496|   3266| 4.2232966|\n",
      "|   148|  33649|   4.39337|\n",
      "|   148|   3379| 4.3492284|\n",
      "|   148|  96004| 4.3492284|\n",
      "|   148| 171495| 4.2653317|\n",
      "|   148| 117531|  4.228605|\n",
      "+------+-------+----------+\n",
      "only showing top 20 rows\n",
      "\n"
     ]
    }
   ],
   "source": [
    "clean_recs.show()"
   ]
  },
  {
   "cell_type": "code",
   "execution_count": 30,
   "metadata": {},
   "outputs": [],
   "source": [
    "clean_recs = clean_recs.join(movies, [\"movieID\"], \"left\")"
   ]
  },
  {
   "cell_type": "code",
   "execution_count": 31,
   "metadata": {
    "scrolled": false
   },
   "outputs": [
    {
     "name": "stdout",
     "output_type": "stream",
     "text": [
      "+------+----------+-------+--------------------+--------------------+\n",
      "|userID|prediction|movieId|               title|              genres|\n",
      "+------+----------+-------+--------------------+--------------------+\n",
      "|     1|  5.467287|  33649|  Saving Face (2004)|Comedy|Drama|Romance|\n",
      "|     1| 5.6248956|  96004|Dragon Ball Z: Th...|Action|Adventure|...|\n",
      "|     1| 5.4539785| 171495|              Cosmos|  (no genres listed)|\n",
      "|     1|   5.60177| 132333|         Seve (2014)|   Documentary|Drama|\n",
      "|     1| 5.6248956|   3379| On the Beach (1959)|               Drama|\n",
      "|     2|  4.553409|   7071|Woman Under the I...|               Drama|\n",
      "|     2|   4.68128|  96004|Dragon Ball Z: Th...|Action|Adventure|...|\n",
      "|     2| 4.8219223| 131724|The Jinx: The Lif...|         Documentary|\n",
      "|     2|  4.592193| 171495|              Cosmos|  (no genres listed)|\n",
      "|     2|   4.68128|   3379| On the Beach (1959)|               Drama|\n",
      "|     3|  4.836814|   6835|Alien Contaminati...|Action|Horror|Sci-Fi|\n",
      "|     3|  4.737157|   5181|    Hangar 18 (1980)|Action|Sci-Fi|Thr...|\n",
      "|     3| 4.6280446|   4518|The Lair of the W...|       Comedy|Horror|\n",
      "|     3| 4.4723806|   2851|     Saturn 3 (1980)|Adventure|Sci-Fi|...|\n",
      "|     3|  4.836814|   5746|Galaxy of Terror ...|Action|Horror|Mys...|\n",
      "|     4| 4.7299724|   1733|    Afterglow (1997)|       Drama|Romance|\n",
      "|     4|  4.529767| 132333|         Seve (2014)|   Documentary|Drama|\n",
      "|     4| 4.6909924|   1046|Beautiful Thing (...|       Drama|Romance|\n",
      "|     4|  4.641105|   2204|     Saboteur (1942)|    Mystery|Thriller|\n",
      "|     4|  4.851445|   3851|I'm the One That ...|              Comedy|\n",
      "|     5|  4.522014|   8235| Safety Last! (1923)|Action|Comedy|Rom...|\n",
      "|     5| 4.5581594| 177593|Three Billboards ...|         Crime|Drama|\n",
      "|     5|  4.490379|   3224|Woman in the Dune...|               Drama|\n",
      "|     5| 4.6098404| 132333|         Seve (2014)|   Documentary|Drama|\n",
      "|     5|  4.522014|   6201|    Lady Jane (1986)|       Drama|Romance|\n",
      "|     6| 4.7101154|  33649|  Saving Face (2004)|Comedy|Drama|Romance|\n",
      "|     6| 4.7951913|    171|      Jeffrey (1995)|        Comedy|Drama|\n",
      "|     6| 4.6157537|   7071|Woman Under the I...|               Drama|\n",
      "|     6|  4.648017|  67618|Strictly Sexual (...|Comedy|Drama|Romance|\n",
      "|     6|  4.712495|   6732|Hello, Dolly! (1969)|Comedy|Musical|Ro...|\n",
      "|     7|  4.345025|   3030|      Yojimbo (1961)|    Action|Adventure|\n",
      "|     7|  4.478764|   3379| On the Beach (1959)|               Drama|\n",
      "|     7|  4.291338|  25771|Andalusian Dog, A...|             Fantasy|\n",
      "|     7|  4.478764|  96004|Dragon Ball Z: Th...|Action|Adventure|...|\n",
      "|     7| 4.2719016|  33649|  Saving Face (2004)|Comedy|Drama|Romance|\n",
      "|     8|  4.705567| 177593|Three Billboards ...|         Crime|Drama|\n",
      "|     8| 4.8724647|  96004|Dragon Ball Z: Th...|Action|Adventure|...|\n",
      "|     8| 4.6579304|  33649|  Saving Face (2004)|Comedy|Drama|Romance|\n",
      "|     8| 4.8724647|   3379| On the Beach (1959)|               Drama|\n",
      "|     8| 4.6894116| 132333|         Seve (2014)|   Documentary|Drama|\n",
      "|     9| 4.6527133|   3379| On the Beach (1959)|               Drama|\n",
      "|     9| 4.6209574|   6442| Belle époque (1992)|      Comedy|Romance|\n",
      "|     9|  4.592963|  89904|   The Artist (2011)|Comedy|Drama|Romance|\n",
      "|     9|   4.59432| 132333|         Seve (2014)|   Documentary|Drama|\n",
      "|     9| 4.6527133|  96004|Dragon Ball Z: Th...|Action|Adventure|...|\n",
      "|    10| 4.1965666|   7169|Chasing Liberty (...|      Comedy|Romance|\n",
      "|    10| 4.2209473| 140110|   The Intern (2015)|              Comedy|\n",
      "|    10| 4.3022685|  51705|Priceless (Hors d...|      Comedy|Romance|\n",
      "|    10| 4.3117294|  94070|Best Exotic Marig...|        Comedy|Drama|\n",
      "|    10| 4.5332704|   8869|First Daughter (2...|      Comedy|Romance|\n",
      "|    11|  4.907219| 171495|              Cosmos|  (no genres listed)|\n",
      "|    11|  4.934761|  59018| Visitor, The (2007)|       Drama|Romance|\n",
      "|    11|  4.934761|  60943| Frozen River (2008)|               Drama|\n",
      "|    11| 5.1349335|  96004|Dragon Ball Z: Th...|Action|Adventure|...|\n",
      "|    11| 5.1349335|   3379| On the Beach (1959)|               Drama|\n",
      "|    12| 5.5233927|  25906|Mr. Skeffington (...|       Drama|Romance|\n",
      "|    12| 5.5233927|  93008|Very Potter Seque...|      Comedy|Musical|\n",
      "|    12| 5.6696277|   6732|Hello, Dolly! (1969)|Comedy|Musical|Ro...|\n",
      "|    12|   5.65356|  67618|Strictly Sexual (...|Comedy|Drama|Romance|\n",
      "|    12| 5.5233927|  77846| 12 Angry Men (1997)|         Crime|Drama|\n",
      "|    13| 4.8947062|  33649|  Saving Face (2004)|Comedy|Drama|Romance|\n",
      "|    13| 5.1811666|  96004|Dragon Ball Z: Th...|Action|Adventure|...|\n",
      "|    13|  4.947409| 171495|              Cosmos|  (no genres listed)|\n",
      "|    13| 5.1811666|   3379| On the Beach (1959)|               Drama|\n",
      "|    13| 4.8305645|  78836|Enter the Void (2...|               Drama|\n",
      "|    14| 4.5801573|   3379| On the Beach (1959)|               Drama|\n",
      "|    14| 4.5230966| 171495|              Cosmos|  (no genres listed)|\n",
      "|    14| 4.5036473| 117531|    Watermark (2014)|         Documentary|\n",
      "|    14| 4.5036473|   7071|Woman Under the I...|               Drama|\n",
      "|    14| 4.5801573|  96004|Dragon Ball Z: Th...|Action|Adventure|...|\n",
      "|    15|  4.360042|   3379| On the Beach (1959)|               Drama|\n",
      "|    15|  4.360042|  96004|Dragon Ball Z: Th...|Action|Adventure|...|\n",
      "|    15|  4.426852|  59018| Visitor, The (2007)|       Drama|Romance|\n",
      "|    15|  4.426852|  60943| Frozen River (2008)|               Drama|\n",
      "|    15|  4.581579|  27611|Battlestar Galact...|    Drama|Sci-Fi|War|\n",
      "|    16| 4.4724054|  96004|Dragon Ball Z: Th...|Action|Adventure|...|\n",
      "|    16| 4.4724054|   3379| On the Beach (1959)|               Drama|\n",
      "|    16| 4.4803243|  25771|Andalusian Dog, A...|             Fantasy|\n",
      "|    16| 4.2829967|  33649|  Saving Face (2004)|Comedy|Drama|Romance|\n",
      "|    16|  4.290111|   3266|Man Bites Dog (C'...|Comedy|Crime|Dram...|\n",
      "|    17| 5.0957713|   3379| On the Beach (1959)|               Drama|\n",
      "|    17| 4.8658323|  33649|  Saving Face (2004)|Comedy|Drama|Romance|\n",
      "|    17| 5.0957713|  96004|Dragon Ball Z: Th...|Action|Adventure|...|\n",
      "|    17| 4.8555403| 171495|              Cosmos|  (no genres listed)|\n",
      "|    17| 4.8749833| 132333|         Seve (2014)|   Documentary|Drama|\n",
      "|    18| 4.8998146|   3379| On the Beach (1959)|               Drama|\n",
      "|    18| 4.7437963|  33649|  Saving Face (2004)|Comedy|Drama|Romance|\n",
      "|    18| 4.6713123| 171495|              Cosmos|  (no genres listed)|\n",
      "|    18| 4.8998146|  96004|Dragon Ball Z: Th...|Action|Adventure|...|\n",
      "|    18| 4.6204267| 177593|Three Billboards ...|         Crime|Drama|\n",
      "|    19|   4.09431|   3379| On the Beach (1959)|               Drama|\n",
      "|    19| 3.8909698|  33649|  Saving Face (2004)|Comedy|Drama|Romance|\n",
      "|    19|   4.09431|  96004|Dragon Ball Z: Th...|Action|Adventure|...|\n",
      "|    19| 3.7965193|   2037|   Candleshoe (1977)|Adventure|Childre...|\n",
      "|    19| 3.7965193|   3056|       Oxygen (1999)|Crime|Drama|Thriller|\n",
      "|    20| 5.1849036| 132333|         Seve (2014)|   Documentary|Drama|\n",
      "|    20|  5.027865|   5915|Victory (a.k.a. E...|    Action|Drama|War|\n",
      "|    20|  4.948166| 177593|Three Billboards ...|         Crime|Drama|\n",
      "|    20|  4.890901|  25906|Mr. Skeffington (...|       Drama|Romance|\n",
      "|    20|  4.890901|  77846| 12 Angry Men (1997)|         Crime|Drama|\n",
      "+------+----------+-------+--------------------+--------------------+\n",
      "only showing top 100 rows\n",
      "\n"
     ]
    }
   ],
   "source": [
    "clean_recs = clean_recs.select('userID', 'prediction', 'movieId', 'title', 'genres').sort('userID')\n",
    "clean_recs.show(100)"
   ]
  },
  {
   "cell_type": "code",
   "execution_count": null,
   "metadata": {},
   "outputs": [],
   "source": []
  }
 ],
 "metadata": {
  "kernelspec": {
   "display_name": "learn-env",
   "language": "python",
   "name": "learn-env"
  },
  "language_info": {
   "codemirror_mode": {
    "name": "ipython",
    "version": 3
   },
   "file_extension": ".py",
   "mimetype": "text/x-python",
   "name": "python",
   "nbconvert_exporter": "python",
   "pygments_lexer": "ipython3",
   "version": "3.8.5"
  }
 },
 "nbformat": 4,
 "nbformat_minor": 4
}
